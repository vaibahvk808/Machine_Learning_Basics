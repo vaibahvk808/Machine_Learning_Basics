{
  "nbformat": 4,
  "nbformat_minor": 0,
  "metadata": {
    "colab": {
      "name": " Python Documentation.ipynb",
      "provenance": [],
      "collapsed_sections": [],
      "toc_visible": true,
      "authorship_tag": "ABX9TyNFAvasfjx/ifxnb4+YxxAD",
      "include_colab_link": true
    },
    "kernelspec": {
      "name": "python3",
      "display_name": "Python 3"
    }
  },
  "cells": [
    {
      "cell_type": "markdown",
      "metadata": {
        "id": "view-in-github",
        "colab_type": "text"
      },
      "source": [
        "<a href=\"https://colab.research.google.com/github/vaibahvk808/Machine_Learning_Basics/blob/main/Python_Documentation.ipynb\" target=\"_parent\"><img src=\"https://colab.research.google.com/assets/colab-badge.svg\" alt=\"Open In Colab\"/></a>"
      ]
    },
    {
      "cell_type": "markdown",
      "metadata": {
        "id": "9ZJb808JoDMu"
      },
      "source": [
        "# Python Interpreter\n",
        "* The interpreter operates somewhat like the Unix shell \n",
        "* Start by typing the following code(or the latest version) to the shell.\n",
        "\n",
        "```\n",
        "python3.8 \n",
        "```\n",
        "* Can be used as Calculator by adding,subtracting,Dividing & Multiplying numbers\n",
        "\n"
      ]
    },
    {
      "cell_type": "markdown",
      "metadata": {
        "id": "PSG9FXmgYhZ3"
      },
      "source": [
        "# Using Python: String & List\n",
        "* **Comments**(start with #)(ctrl+L) are not interpreted by python.No multiline comment. Use multiple single line comments (prefred) vs  use multi line string (triple quotes) as multi line comment if not used as Docstring. \n",
        "* **Numbers** (int & float) - also support Decimal,Fraction & Complex Number\n",
        "* **Strings** - can be enclosed in single or double quotes (use \\ to esccape quotes), multiple line using triple string. Can be added using * & repeated using *. Two string next to each other can also be concatenate but not variable & string.\n",
        "* Raw string can be generated using print(r'text') only works with literal string,does not work with string vriables.\n",
        "* **String** can be indexed & sliced .Out of range index error but can be handeled in slicing.\n",
        "* **Print**() - output more readable form by omitting enclosed quotes, if don't want characters prefix with \\ to be treated as special characters.\n",
        "> **str()** computes output readable to end user whereas **repr()** is official representation (used for debugging & development)\n",
        "* **Lists** : is a comma-separated values (items) between square brackets. Lists might contain items of different types, but usually the items all have the same type. Like String they also support Concatenate,Indexing & Slicing(creates a **shallow copy**). List inside a list can be accesed with list[][]\n",
        "* Unlike string which are immutable ,Lists are mutable (able to change their content). \n",
        "* **len()** function can be used with string,lists."
      ]
    },
    {
      "cell_type": "code",
      "metadata": {
        "id": "9NjKIWzVm84h"
      },
      "source": [
        "# using wrong quotes\n",
        "s1=\"this is string 1\\n\"\n",
        "#s2 ='this is string 2's text'  --- this gives error\n",
        "s3='this is string 2\\' text\\n'\n",
        "s4=\"this is string 2's text\\n\"\n",
        "print(s1,s3,s4)\n",
        "\n",
        "print(\"this is the file location :c\\some\\newfolder\\n\")\n",
        "loc=\"this is the file location :c\\some\\newfolder\"\n",
        "print(repr(loc))\n",
        "\n",
        "# Difference between str() and repr()\n",
        "import datetime\n",
        "time=datetime.datetime.now()\n",
        "print(\"\\n Stirng representation :\")\n",
        "print(str(time))\n",
        "print(\"\\n repr representation :\")\n",
        "print(repr(time))\n",
        "\n",
        "# String's Indexing & Slicing\n",
        "t='Python'\n",
        "print(t[0],t[-4],t[5],t[0:2],t[2:])\n",
        "# print(t[42]) --- gives index out of range error\n",
        "print(t[2:42])\n"
      ],
      "execution_count": null,
      "outputs": []
    },
    {
      "cell_type": "markdown",
      "metadata": {
        "id": "GD_pskwp4NTe"
      },
      "source": [
        "# First Step towards Programming"
      ]
    },
    {
      "cell_type": "markdown",
      "metadata": {
        "id": "Ihoc4mq-CNO1"
      },
      "source": [
        "* Generate Fibbonaci Series  using :\n",
        "* Multiple Assignment\n",
        "*  While loop executes as long as the condition is true,non-zero integer & non-zero length is true but zero & empty string is false.\n",
        "* The body of a loop is Indented,Indentation is way of grouping sentences.\n",
        "* Print() generates output, use end =', ' to view the output in single line seperated by commas"
      ]
    },
    {
      "cell_type": "code",
      "metadata": {
        "id": "SSKYxn99CZVj",
        "outputId": "9d244c2a-1d51-4e18-c685-67df90052cc7",
        "colab": {
          "base_uri": "https://localhost:8080/",
          "height": 34
        }
      },
      "source": [
        "a,b=0,1\n",
        "while a<10:\n",
        "  print(a,end=',')\n",
        "  a,b=b,a+b"
      ],
      "execution_count": null,
      "outputs": [
        {
          "output_type": "stream",
          "text": [
            "0,1,1,2,3,5,8,"
          ],
          "name": "stdout"
        }
      ]
    },
    {
      "cell_type": "markdown",
      "metadata": {
        "id": "9PUhPWSAKiyb"
      },
      "source": [
        "# Control Flow Tools - if ,for, range, break, continue, Pass & Iterators\n",
        "* **IF** Statements - consist of if ... elif ... elif ... else (like switch or case in other language)\n",
        "* **input**() function used to take input from user and convert it to string ,when entering a number & want to want to operate with other numbers , convert the input  using **int**().\n",
        "* **for** statement iterates over the sequence (list or string ) in the order that they apear in the sequence.\n",
        "* To modify a collection while iterating over the same Collection is risky, instead use a copy or create a new collection.\n",
        "* **range**(n) generate n values to iterate over.--> range(start, stop[, step]) & **enumerate**(iterable,start=0) iterates with index & generate a tuple. \n",
        "* **range** & **enumerate** function are iterators either use with for loop or convert to list().\n",
        "* **iter()** function takes an object & iterate over its elements using next() or for loop.\n",
        "* **Break** statement breaks out the innermost for or while loop.**Loop statements may have an else clause**; it is executed when the loop terminates through exhaustion of the iterable (with for) or when the condition becomes false (with while), but not when the loop is terminated by a break statement. \n",
        "* **Continue statement**- continues with the next iteration of the loop.\n",
        "* **Pass statement** does nothing , can be used as a functions body placeholder till we think about the function's logic & write new code."
      ]
    },
    {
      "cell_type": "code",
      "metadata": {
        "id": "2-vrhHkmMCxE"
      },
      "source": [
        "# IF Else Statement\n",
        "x=int(input(\"Enter ur Age:\"))\n",
        "if x >18:\n",
        "  print(\"You are a Man\")\n",
        "else:\n",
        "  peint(\"You are a boy\")\n",
        "\n",
        "# print all elements of squence (list or string) using for statement\n",
        "string=\"all is \"\n",
        "for w in string:\n",
        "  print(w)\n",
        "list1=[1,2,5]\n",
        "for l in list1:\n",
        "  print(l)  \n",
        "\n",
        "# generate numbers using range\n",
        "for i in range(5):\n",
        "  print(i)\n",
        "\n",
        "#generate list using range ,both return a iterator so use list to see the OP\n",
        "l1=['a','b','c']\n",
        "print(enumerate(l1),range(4))\n",
        "print(list(enumerate(l1)))\n",
        "print(list(range(4)))\n",
        "\n",
        "# If Prime or Not between 2 and 10\n",
        "for n in range(2,10):\n",
        "  for x in range(2,n):\n",
        "    if n%x==0:\n",
        "      print(n ,\"is \",x,\"*\",n//x)\n",
        "      break\n",
        "  else:\n",
        "    print(n,\"is a prime number\")\n",
        "\n",
        "# Definie a new function\n",
        "def conversion(*args):\n",
        "  pass #think about the logic later"
      ],
      "execution_count": null,
      "outputs": []
    },
    {
      "cell_type": "markdown",
      "metadata": {
        "id": "2OrfcONaPljj"
      },
      "source": [
        "# Functions - docstring & arguments\n",
        "\n",
        "* keyword ***def*** introduces a function definition= function name + (arguments name) + indented function body statements\n",
        "* First line is the **docstring**(string literal)- function documentation.Always write one.\n",
        "* Return statement with a value from the function,return statement not mentioned-**returns None**: print(func_name_with_no_return)\n",
        "* **Names refer to values,Many Name can refer to one value**,Assignment never copies data,Changes in a value(Mutable-list) are visible through all of its names.\n",
        "* Defining Function Arguments:\n",
        "> **Default Argument Values** - so functions can be called with fewer arguments, the default arguments are evaluated at the time of defining(only once). Can change if its a mutable object.\n",
        "\n",
        "  > Functions can be called using **Positional**(in correct order) or keyword argumnets(kwarg) in the form **kwarg=value**\n",
        "\n",
        "  > function (kwarg1,star-argument, **keywords)  - here the star-argument is a tuple, & **keyword  is a dictionary. in the order that they were provided in function call.\n",
        "\n",
        "* **in** keyword - this test whether a sequence contains a certian value.\n",
        "* Special Parameter - for readability a function definiton should be in order `function(positonal only,/,postional or keyword,*,keyword only)` argument placed before / are positional only - **/ giving syntax error**\n",
        "* Arbitrary Argument list- function can be called with an arbitrary number of arguments. func(*arg)"
      ]
    },
    {
      "cell_type": "code",
      "metadata": {
        "id": "QMZ_re6WP7Zd",
        "outputId": "edbe5563-7c4d-4a4e-891d-3c74a6b04e90",
        "colab": {
          "base_uri": "https://localhost:8080/",
          "height": 212
        }
      },
      "source": [
        "# to show the Structure of Function - always include a docstring\n",
        "def fibonacci(n):\n",
        "  \"\"\"Print a Fibonacci series till the number inputed by user\"\"\"\n",
        "  a,b=0,1\n",
        "  while a<n:\n",
        "    print(a,end=\",\")\n",
        "    a,b=b,a+b\n",
        "\n",
        "print(fibonacci(2000))\n",
        "\n",
        "#2 name refer two 1 value\n",
        "x=5\n",
        "y=x\n",
        "x=3\n",
        "print(x,y) # value of name x changes \n",
        "\n",
        "x=[1,2,3,4]\n",
        "y=x\n",
        "y[0]=8\n",
        "print(x,y) # both name still refer to 1 value bcz the object is mutable.\n",
        "\n",
        "# Different Arguments in function\n",
        "def cheeseshop(kind, *arguments, **keywords):\n",
        "    print(\"-- Do you have any\", kind, \"?\")\n",
        "    print(\"-- I'm sorry, we're all out of\", kind)\n",
        "    for arg in arguments:\n",
        "        print(arg)\n",
        "    print(\"-\" * 40)\n",
        "    for kw in keywords:\n",
        "        print(kw, \":\", keywords[kw])\n",
        "\n",
        "cheeseshop(\"Limburger\", \"It's very runny, sir.\",\n",
        "           \"It's really very, VERY runny, sir.\",\n",
        "           shopkeeper=\"Michael Palin\",\n",
        "           client=\"John Cleese\",\n",
        "           sketch=\"Cheese Shop Sketch\")"
      ],
      "execution_count": null,
      "outputs": [
        {
          "output_type": "stream",
          "text": [
            "0,1,1,2,3,5,8,13,21,34,55,89,144,233,377,610,987,1597,None\n",
            "3 5\n",
            "[8, 2, 3, 4] [8, 2, 3, 4]\n",
            "-- Do you have any Limburger ?\n",
            "-- I'm sorry, we're all out of Limburger\n",
            "It's very runny, sir.\n",
            "It's really very, VERY runny, sir.\n",
            "----------------------------------------\n",
            "shopkeeper : Michael Palin\n",
            "client : John Cleese\n",
            "sketch : Cheese Shop Sketch\n"
          ],
          "name": "stdout"
        }
      ]
    },
    {
      "cell_type": "code",
      "metadata": {
        "id": "BGb5ku8jlNMK",
        "outputId": "0dc099fd-8437-4043-844a-a76e40493026",
        "colab": {
          "base_uri": "https://localhost:8080/",
          "height": 52
        }
      },
      "source": [
        "# use * operator to unpack the arguments out of a list or tuple:\n",
        "arg=[3,6]\n",
        "print(range(*arg))\n",
        "\n",
        "#dictionaries can deliver keyword arguments with the **-operator\n",
        "def parrot(voltage:int, state='a stiff', action='voom'): # defining a type for a argument ,can be accessed as function.__annotation__\n",
        "     print(\"-- This parrot wouldn't\", action, end=' ')\n",
        "     print(\"if you put\", voltage, \"volts through it.\", end=' ')\n",
        "     print(\"E's\", state, \"!\")\n",
        "d={\"voltage\":\"4\",\"state\":\"bleeding\",\"action\":\"Bam\"}\n",
        "parrot(**d)"
      ],
      "execution_count": null,
      "outputs": [
        {
          "output_type": "stream",
          "text": [
            "range(3, 6)\n",
            "-- This parrot wouldn't Bam if you put 4 volts through it. E's bleeding !\n"
          ],
          "name": "stdout"
        }
      ]
    },
    {
      "cell_type": "markdown",
      "metadata": {
        "id": "5PxpBTQ4_JZC"
      },
      "source": [
        "# Lambda, DocString & Coding style\n",
        "* Small anonymous function created using **Lambda** expression,restricted to single expression\n",
        "* **DocString** Documentation : triple quotes- 1st Line summary (start with Capital end with .), 1 line space then in depth.\n",
        "* **Coding Style** -\n",
        "> 4 space identation,Wrap lines for readibilty.\n",
        "\n",
        "  >Use Blank line to seperate functions,classes & larger blocks of code\n",
        "\n",
        "  >When possible, put comments on a line of their own & use Docstring.\n",
        "\n",
        "  >the convention is to use **UpperCamelCase for classes** and **lowercase_with_underscores for functions and methods**. Always use **self** as the name for the first method argument"
      ]
    },
    {
      "cell_type": "code",
      "metadata": {
        "id": "-xRM0__rAwz-",
        "outputId": "d069c208-fcbb-450f-9e21-87fac8c38b33",
        "colab": {
          "base_uri": "https://localhost:8080/",
          "height": 34
        }
      },
      "source": [
        "# Use of lambda -key decide which element to be used for sorting (1st or 2nd)\n",
        "pairs = [(1, 'one'), (2, 'two'), (3, 'three'), (4, 'four')]\n",
        "pairs.sort(key=lambda pair: pair[1])"
      ],
      "execution_count": null,
      "outputs": [
        {
          "output_type": "execute_result",
          "data": {
            "text/plain": [
              "[(4, 'four'), (1, 'one'), (3, 'three'), (2, 'two')]"
            ]
          },
          "metadata": {
            "tags": []
          },
          "execution_count": 37
        }
      ]
    },
    {
      "cell_type": "markdown",
      "metadata": {
        "id": "kL-pfhzPGoCi"
      },
      "source": [
        "# Data Structure - List Methods & List Comprehension\n",
        "* **List Methods**- append() , extend() , insert() , remove() , pop([i]) , clear() , index(x,start,end) , count(x) , sort(key= None,reverse=False) , reverse() , copy()\n",
        "* Using **List as Stack** -\"Last in ,First Out\" ,pop() gives the last element.\n",
        "* Using **list as QUeue** -\"First in , First Out\" ,(List are not effecient for this as all the elements has to be shifted)-  use Collection.deque() which have fast appends & pops from both end.(pop.left())\n",
        "* **List Comprehension** -A list comprehension consists of brackets containing an expression followed by a for clause, then zero or more for or if clauses. Can also create list of tuples using ()-parenthesis.\n",
        "\n",
        "```\n",
        "[value if condition else value for element in container]\n",
        "```\n",
        "\n",
        "\n",
        "* **Nested List Comp** - list comprehension inside a list comp\n",
        "* **del** can be used to remove item from a list using its index or delete entire variable.\n"
      ]
    },
    {
      "cell_type": "code",
      "metadata": {
        "id": "ZRl2t6ekKeps",
        "outputId": "7bc04ed6-86f4-4f93-e238-21d7e52b9473",
        "colab": {
          "base_uri": "https://localhost:8080/",
          "height": 141
        }
      },
      "source": [
        "# List Comprehension\n",
        "# Standard way\n",
        "squares1=[]\n",
        "for x in range(10):\n",
        "  squares1.append(x**2)\n",
        "\n",
        "# Using Map\n",
        "squares2=list(map(lambda x:x**2,range(10)))\n",
        "\n",
        "# using for loop\n",
        "squares3=[x**2 for x in range(10)]\n",
        "\n",
        "print(squares1,squares2,squares3,sep=\"\\n\")\n",
        "\n",
        "# list comprehension using for -if-else\n",
        "# from 1 to 10 only print square of even\n",
        "sq=[x**2 if x%2==0 else x for x in range(1,11)]\n",
        "print(sq)\n",
        "\n",
        "# List of tuples using List Comprehension -- use paranthesis or it will give error\n",
        "non_matching_elements=[(a,b) for a in range(4) for b in range(4) if a!=b]\n",
        "print(non_matching_elements)\n",
        "\n",
        "# also could flatten a matrix using list comp\n",
        "array2d=[[1,2,3],[4,5,6],[7,8,9]]\n",
        "print([num for ele in array2d for num in ele])\n",
        "\n",
        "# Nested List Comprehension To transpose array2d\n",
        "print(\"Transpose of Matrix:\",[[row[i] for row in array2d] for i in range(3)])\n",
        "# use built in func zip instead\n",
        "print(list(zip(*array2d)))"
      ],
      "execution_count": null,
      "outputs": [
        {
          "output_type": "stream",
          "text": [
            "[0, 1, 4, 9, 16, 25, 36, 49, 64, 81]\n",
            "[0, 1, 4, 9, 16, 25, 36, 49, 64, 81]\n",
            "[0, 1, 4, 9, 16, 25, 36, 49, 64, 81]\n",
            "[(0, 1), (0, 2), (0, 3), (1, 0), (1, 2), (1, 3), (2, 0), (2, 1), (2, 3), (3, 0), (3, 1), (3, 2)]\n",
            "[1, 2, 3, 4, 5, 6, 7, 8, 9]\n",
            "Transpose of Matrix: [[1, 4, 7], [2, 5, 8], [3, 6, 9]]\n",
            "[(1, 4, 7), (2, 5, 8), (3, 6, 9)]\n"
          ],
          "name": "stdout"
        }
      ]
    },
    {
      "cell_type": "markdown",
      "metadata": {
        "id": "EFcRgVT8yttK"
      },
      "source": [
        "# Tuples,Sets & Dictionary\n",
        "* **Tuples** are immutable, and usually contain a heterogeneous sequence of elements which can be **accessed through unpacking or indexing**.Can also be nested.\n",
        "* A **set is an unordered collection with no duplicate elements**. Basic uses include membership testing and eliminating duplicate entries. Can be created using set() or {} braces\n",
        "* set also support mathematical operation like union,intersection,difference.\n",
        "* Dictionary is a key:value pair,which requires key being unique within a dictionary. **Keys are of immutable type** so - string ,number or tuples(containing immutable object).\n",
        "* **Dictionary Comprehension** .Use del dict[key],list(dict),sorted(dist) - both outputs keys."
      ]
    },
    {
      "cell_type": "code",
      "metadata": {
        "id": "WYpYCVSf0ZjB",
        "outputId": "ed57dce4-626e-408d-f922-79580cfe4df8",
        "colab": {
          "base_uri": "https://localhost:8080/",
          "height": 141
        }
      },
      "source": [
        "# Tuple packing\n",
        "t=12345,54321,'hello',\n",
        "# Squence Unpacking\n",
        "x,y,z=t\n",
        "print(x,y,z)\n",
        "\n",
        "# set\n",
        "a=set('abracadabra')\n",
        "b=set('alacazam')\n",
        "print(\"A is :\",a,\"\\n B is :\",b)\n",
        "print(\"in a but not in b :\",a-b,\"\\n a or b or both\",a|b,\"\\n in both a and b\",a & b,\"\\n in a or b but not both\",a^b)\n",
        "\n",
        "# Dictionary\n",
        "dict1=dict([('raju',200),('shyam',100),('babu',50)])\n",
        "print(dict1['raju'])\n",
        "del dict1['shyam']\n",
        "print(list(dict1),sorted(dict1))\n",
        "\n",
        "#dictionary creation using arguments\n",
        "dict2=dict(one=1,two=2,three=3)\n",
        "print(dict2)\n",
        "\n",
        "# dictionary Comprehension\n",
        "dict3={x:x**2 for x in range(4)}\n",
        "print(dict3)"
      ],
      "execution_count": null,
      "outputs": [
        {
          "output_type": "stream",
          "text": [
            "12345 54321 hello\n",
            "A is : {'r', 'b', 'a', 'c', 'd'} \n",
            " B is : {'l', 'm', 'a', 'c', 'z'}\n",
            "in a but not in b : {'d', 'b', 'r'} \n",
            " a or b or both {'r', 'b', 'l', 'a', 'm', 'c', 'z', 'd'} \n",
            " in both a and b {'c', 'a'} \n",
            " in a or b but not both {'d', 'b', 'l', 'm', 'z', 'r'}\n"
          ],
          "name": "stdout"
        }
      ]
    },
    {
      "cell_type": "markdown",
      "metadata": {
        "id": "i6voKv-j3CZs"
      },
      "source": [
        "# Looping Techniques (items , enumerate ,zip) & Boolean Operators \n",
        "* use **.items()** to retreive keys & coressponding value at the same time\n",
        "* use **enumerate(s1)** to loop over the index & keys\n",
        "* use **zip(s1,s2)** to loop over 2 or more sequences\n",
        "* use **reversed(s1)** to loop over a sequence in reverse order\n",
        "* use **sorted(s1)** to loop over in sorted order, the source will remain unaltered.\n",
        "* it is often simpler and safer to create a new list while looping over a list & want to modify it.\n",
        "* use **in or not in** check whether a value occurs(or not) in a sequence.\n",
        "* use **is or is not** to compare whether two objects are same objects\n",
        "* The Boolean operators **and and or are so-called short-circuit operators**: their arguments are evaluated from **left to right**, and evaluation stops as soon as the outcome is determined( Condition is true).\n",
        "* Sequence objects typically may be compared to other objects with the same sequence type. The comparison uses **lexicographical ordering**: first  element are compared if they are equal then the next element is compared and so on."
      ]
    },
    {
      "cell_type": "code",
      "metadata": {
        "id": "HJSRR-SqfFYJ"
      },
      "source": [
        "dict4=dict(first=1,second=2,three=3)\n",
        "\n",
        "for k,v in dict4.items():\n",
        "  print(k,v)\n",
        "\n",
        "for i,v in enumerate(dict4):\n",
        "  print(i,v)\n",
        "\n",
        "s1=['name','job']\n",
        "s2=['raju','milionare']\n",
        "for e1,e2 in zip(s1,s2):\n",
        "  print(\"What is your {} ? It is {}.\".format(e1,e2))\n",
        "\n",
        "# create a new list when looping over a list & want to modify it\n",
        "import math\n",
        "list1=[3.34,4.5,float('NaN'),6,float('NaN')]\n",
        "list2=[]\n",
        "for value in list1:\n",
        "  if not math.isnan(value):\n",
        "    list2.append(value)\n",
        "print(list2)\n",
        "\n"
      ],
      "execution_count": null,
      "outputs": []
    },
    {
      "cell_type": "code",
      "metadata": {
        "id": "xqvDxB3mmZtc"
      },
      "source": [
        "# Other Condition\n",
        "x=5\n",
        "y=5\n",
        "\n",
        "list1=[5,2,124,45,7576,231,23,9]\n",
        "print(x is y,23 in list1)\n",
        "\n",
        "# Here the condition became True on str2 \n",
        "str1,str2,str3='','Blah','Trah'\n",
        "print(str1 or str2 or str3)\n",
        "\n",
        "# Lexicographical ordering\n",
        "# first 2 elements are equal but 12<9 is False\n",
        "l1=[1,2,12,6,9]\n",
        "l2=[1,2,9,10,12]\n",
        "l3=[0,3]\n",
        "print(l1<l2,l1<l3)"
      ],
      "execution_count": null,
      "outputs": []
    },
    {
      "cell_type": "markdown",
      "metadata": {
        "id": "5o_DXmwErxpA"
      },
      "source": [
        "# Modules & Packages\n",
        "* Module -A python file containing funcitons & definition that we want to reuse without defining every time.\n",
        "* import Module & use dot operator to access its functions. or import specific function from module(from module import function).\n",
        "* from module import * does not execute function start with _(underscore)\n",
        "* include name=main part if want to test module by giving argument to module(ex :50) in command line using :\n",
        "\n",
        "```\n",
        "python fibo.py 50\n",
        "```\n",
        "* sys() Module\n",
        "* dir() function used to find out names a module defines.Does not show builtin function ,for that import builtins then dir(builtins)\n",
        "* Module is a file which contains various Python functions and global variables. It is simply just .py extension file which has python executable code.\n",
        "* Package is a collection of modules. It must contains an __init__.py file as a flag so that the python interpreter processes it as such. The __init__.py could be an empty file without causing issues.\n",
        "* **API ,Framework ,Library,Packages,Modules?**\n"
      ]
    },
    {
      "cell_type": "code",
      "metadata": {
        "id": "I07WU6pl8Wla"
      },
      "source": [
        "# write this inside a fib_mod.py file where fib_mod is the module name & also include __name__=\"__main__\" if want to run this file in CL with argument,\n",
        "# Fibonacci numbers module\n",
        "def fib(n):    # write Fibonacci series up to n\n",
        "    a, b = 0, 1\n",
        "    while a < n:\n",
        "        print(a, end=' ')\n",
        "        a, b = b, a+b\n",
        "    print()\n",
        "\n",
        "def fib2(n):   # return Fibonacci series up to n\n",
        "    result = []\n",
        "    a, b = 0, 1\n",
        "    while a < n:\n",
        "        result.append(a)\n",
        "        a, b = b, a+b\n",
        "    return result\n",
        "\n",
        "if __name__ == \"__main__\":\n",
        "    import sys\n",
        "    fib(int(sys.argv[1]))"
      ],
      "execution_count": null,
      "outputs": []
    },
    {
      "cell_type": "code",
      "metadata": {
        "id": "DmDQly6XL1Ie"
      },
      "source": [
        "import sys,builtins\n",
        "print(sys.path,dir(builtins))"
      ],
      "execution_count": null,
      "outputs": []
    },
    {
      "cell_type": "markdown",
      "metadata": {
        "id": "q8VFUkh1S_co"
      },
      "source": [
        "# Input & Output - Reading & Writing\n",
        "* Output Formatting using f' {variable_name}' or **str.format()**\n",
        "* inside **{v_name:}** to allow greater control over formatting.\n",
        "* can give complete dictionary in str.format(**dict) through keyword argument & then OP based on key values.\n",
        "* **str.ljust() & .rjust() &.center() & .zfill()** to fill zeroes in OP\n",
        "* old style formatting is using % operator(modulo)\n",
        "* **Reading & writing File**: \n",
        "* open() returns a file object, and is most commonly used with two arguments: **open(filename, mode)**. mode: r(default)- reading,w-writing,a-appending,r+for reading +writing.\n",
        "* read file using **with** which automatically closes file ,if not opening using with close manually using f.close()\n",
        "* the **read() method only returns strings**\n",
        "*  Normally, files are opened in text mode,all files that don’t contain text\n",
        "* To **read all the lines of a file in a list** you can also use list(f) or **f.readlines()**\n",
        "* **f.tell()** -object current position in file &** f.seek()** change the object position in file\n",
        "* Module called **json** which is used to convert to string representation(**serializng** - can handle list or dictionary **Pickle for complex python object**).**deserializing** - reconstructing the data from its string representation.\n",
        "* The JSON format is commonly used by modern applications to allow for data exchange"
      ]
    },
    {
      "cell_type": "code",
      "metadata": {
        "id": "zQNe4upeTm8x"
      },
      "source": [
        "# --------------------------FORMATTING------------------------------------------\n",
        "# :10 means add 10 charater width & :.2f means only 2 digits after dot.\n",
        "name=\"raju\"\n",
        "height =5.924\n",
        "print(f'My name is {name}')\n",
        "print(\"My height  is {1:10} & my name is {0}\".format(name,height))\n",
        "print(\"Height is {:.2f} foot\".format(height))\n",
        "\n",
        "# str.format() is kind of accept  positional & keyword argument\n",
        "print(\"My name is {0} & my height is {1} & my friend's name is {f_name}\".format(name,height,f_name=\"shyam\"))\n",
        "\n",
        "dict2={'raju':300,'babu':200,'shyam':100}\n",
        "print(\"The best roles in PHP is in value raju is {raju}\".format(**dict2))\n",
        "\n",
        "# rjust() do padding on the left & ljust() on right & zfill on left.\n",
        "var=99\n",
        "print(str(var).ljust(2),\"\\n\",str(var).rjust(2),\"\\n\",str(var).zfill(5))\n",
        "\n",
        "# old style formatting\n",
        "import math\n",
        "print(\" the value of pi is %.3f\"%math.pi)\n",
        "\n",
        "#-----------------------------READING AND WRITING-------------------------------------\n",
        "# Reading & writing File\n",
        "f=open(\"workfile\",'w')\n",
        "\n",
        "with open(\"workfile\") as f:\n",
        "  read_file=f.read()\n",
        "\n",
        "f.read() # gives error after closing (manually or using with)\n",
        "\n",
        "import json\n",
        "l1=[4,9,'goli']\n",
        "print(json.dumps(l1),type(json.dumps(l1)),type(l1))"
      ],
      "execution_count": null,
      "outputs": []
    },
    {
      "cell_type": "markdown",
      "metadata": {
        "id": "FC5HdxQkO7Im"
      },
      "source": [
        "# Errors & [Exception](https://www.freecodecamp.org/news/exception-handling-python/) : \n",
        "* There are (at least) two distinguishable kinds of errors: syntax errors and exceptions.\n",
        "* **BaseException** = SystemExit + KeyboardInterupt + GeneratorExit +Exception(contain all other exception).\n",
        "* Syntax error points at point where the error occurs or before that.\n",
        "* **try** statement & then exception Error ,include last except clause to serve as a wildcard. one try can have multiple except statements.\n",
        "* The use of the **else clause** is better than adding additional code to the try clause because it avoids accidentally catching an exception that wasn’t raised by the code being protected by the try … except statement.\n",
        "* The **raise** statement allows the programmer to force a specified exception to occur.U can raise an exception if the user doesn't give the required input.\n",
        "* **finally clause** always executes.If a finally (clean up action) clause is present, the finally clause will execute as the last task before the try statement completes.It is mostly useful to close the file irrespective of whether after opening the file it gives an error or not."
      ]
    },
    {
      "cell_type": "code",
      "metadata": {
        "id": "VkLWCH99lBtq"
      },
      "source": [
        "# the function keep asking for name until the user enters a name present in database.\n",
        "name_age_dict={'peanut':10,'goli':3}\n",
        "\n",
        "def get_age():\n",
        "  while True:\n",
        "    try:\n",
        "      name=input(\"Please provide the name to get age\")\n",
        "      print(name_age_dict[name])\n",
        "      break\n",
        "    except :\n",
        "      print(\"The name is not present in database\")\n",
        "\n",
        "get_age()\n",
        "\n",
        "# divide two valid integers if not then raise an error - keep on asking until the user gives proper input\n",
        "def divider():\n",
        "  while True:\n",
        "    try:\n",
        "      a=int(input(\"Enter a numerator!\"))\n",
        "      b=int(input(\"Enter a denominator\"))\n",
        "      result = a / b\n",
        "    except (ZeroDivisionError,ValueError):\n",
        "      print(\"Please enter Interger input,the denominator cannot be zero\")\n",
        "    else:\n",
        "      print(result)\n",
        "      break\n",
        "\n",
        "divider()\n",
        "\n",
        "# Raise Error of the if not given list of lenght 5\n",
        "def print_five_items(data):\n",
        "    \n",
        "    if len(data) != 5:\n",
        "        raise ValueError(\"The argument must have five elements\")\n",
        "    \n",
        "    for item in data:\n",
        "        print(item)\n",
        "\n",
        "print_five_items([5, 2])"
      ],
      "execution_count": null,
      "outputs": []
    },
    {
      "cell_type": "markdown",
      "metadata": {
        "id": "AQucvY_5pgYK"
      },
      "source": [
        "# Classes : NameSpace ,Scope,init(),self\n",
        "* 5 [introspection](https://medium.com/better-programming/the-5-most-useful-introspection-functions-in-python-7084e3bf9f01) functions - dir(), type(), isintance(), hasattr(), id() - return memory address.\n",
        "* [Namespaces & Scope](https://www.adrianperea.dev/mastering-python-namespaces-and-scopes/) \n",
        "* **NameSpace**: the  internal dictionary which serves as a lookup table for all your variables. \n",
        "* There are 4 types of scopes(textual area) : **local ,non-local,global,built-in.**\n",
        "* Scopes must always be seen from point of view from where we are in the code.\n",
        "* To access a variable python **searches in order :- local> non-local> global> builtin.**\n",
        "* The **inner scope have access (read only) to the outer scope** but not the other way around.\n",
        "* If inner scope changes value of outer scope variable ,the inner scope creates new copy as it only had read ony access. We can use **global** and **nonlocal keywords** to change their values.\n",
        "*  [__init__(self) & __new__(cls)](https://medium.com/better-programming/understand-python-custom-class-instantiation-beyond-init-85ad1cbe90d ) - used to initialize the class instance .. new creates empty instance of class.\n",
        "*  [self](https://medium.com/better-programming/unlock-the-4-mysteries-of-self-in-python-d1913fbb8e16) - is nothing but the instance itself. instance is always passed as an argument so stored in self.\n",
        "* **shared data** can have possibly surprising effects with involving mutable objects such as lists and dictionary.\n",
        "* **Methods may call other method**s by using method attributes of the self argument.\n"
      ]
    },
    {
      "cell_type": "code",
      "metadata": {
        "id": "aL9Jki6ZCjtN",
        "outputId": "5d74be79-7e10-484d-e20b-893912e1473e",
        "colab": {
          "base_uri": "https://localhost:8080/",
          "height": 82
        }
      },
      "source": [
        "# Explianing Namespace & Scopes.\n",
        "def foo():\n",
        "  var=5\n",
        "  def first():\n",
        "    var=10\n",
        "  def second():\n",
        "    nonlocal var\n",
        "    var=20\n",
        "  def third():\n",
        "    global var\n",
        "    var=30\n",
        "  first()\n",
        "  print(\"Value of varibale :{}\".format(var)) # created a copy then changed\n",
        "  second()\n",
        "  print(\"value of variable :{}\".format(var)) # changed used nonlocal \n",
        "  third()\n",
        "  print(\"value of variable :{}\".format(var)) # changed the value of global but followed search heirerchy.\n",
        "\n",
        "foo()\n",
        "print(\"value of variable :{}\".format(var)) # acces to global variable"
      ],
      "execution_count": null,
      "outputs": [
        {
          "output_type": "stream",
          "text": [
            "Value of varibale :5\n",
            "value of variable :20\n",
            "value of variable :20\n",
            "value of variable :30\n"
          ],
          "name": "stdout"
        }
      ]
    },
    {
      "cell_type": "code",
      "metadata": {
        "id": "pJR2QtjNhEMt",
        "outputId": "340119e7-a8e4-4af0-9c4f-941419610760",
        "colab": {
          "base_uri": "https://localhost:8080/",
          "height": 50
        }
      },
      "source": [
        "#use of self & init()\n",
        "class Student:\n",
        "  def __init__(self,name,age):\n",
        "    self.name=name\n",
        "    self.age=age\n",
        "  def greet(self):\n",
        "    print(\"Hi {} you are {} year old!\".format(self.name,self.age))\n",
        "\n",
        "student=Student(\"Ram\",40)\n",
        "print(student,type(student))\n",
        "student.greet()"
      ],
      "execution_count": null,
      "outputs": [
        {
          "output_type": "stream",
          "text": [
            "<__main__.Student object at 0x7f634adb3438> <class '__main__.Student'>\n",
            "Hi Ram you are 40 year old!\n"
          ],
          "name": "stdout"
        }
      ]
    },
    {
      "cell_type": "code",
      "metadata": {
        "id": "2NFcxRaNw7iP",
        "outputId": "3aca99eb-8da6-4af8-8c91-23dfcbe53d98",
        "colab": {
          "base_uri": "https://localhost:8080/",
          "height": 50
        }
      },
      "source": [
        "#, shared data can have possibly surprising effects with involving mutable objects such as lists and dict. \n",
        "#For example, the tricks list in the following code should not be used as a class variable because\n",
        "# just a single list would be shared by all Dog instance\n",
        "class Dog:\n",
        "\n",
        "    tricks = []             # mistaken use of a class variable\n",
        "\n",
        "    def __init__(self, name):\n",
        "        self.name = name\n",
        "\n",
        "    def add_trick(self, trick):\n",
        "        self.tricks.append(trick)\n",
        "d=Dog('pop')\n",
        "d.add_trick(\"jump\")\n",
        "e=Dog('lulu')\n",
        "e.add_trick(\"sleep\")\n",
        "print(d.tricks )                 # unexpectedly shared by all Dog instances\n",
        "\n",
        "# Correct way to do\n",
        "class Dog:\n",
        "\n",
        "    def __init__(self, name):\n",
        "        self.name = name\n",
        "        self.tricks=[]\n",
        "\n",
        "    def add_trick(self, trick):\n",
        "        self.tricks.append(trick)\n",
        "d=Dog('pop')\n",
        "d.add_trick(\"jump\")\n",
        "e=Dog('lulu')\n",
        "e.add_trick(\"sleep\")\n",
        "print(d.tricks   )            # each instance has its own tricks"
      ],
      "execution_count": null,
      "outputs": [
        {
          "output_type": "stream",
          "text": [
            "['jump', 'sleep']\n",
            "['jump']\n"
          ],
          "name": "stdout"
        }
      ]
    },
    {
      "cell_type": "code",
      "metadata": {
        "id": "spOKdTZ4x33m",
        "outputId": "a7aefb82-246f-47ff-9b58-d2a4b2fa4ba4",
        "colab": {
          "base_uri": "https://localhost:8080/",
          "height": 33
        }
      },
      "source": [
        "#Methods may call other methods by using method attributes of the self argument:\n",
        "class Bag:\n",
        "    def __init__(self):\n",
        "        self.data = []\n",
        "\n",
        "    def add(self, x):\n",
        "        self.data.append(x)\n",
        "\n",
        "    def addtwice(self, x):\n",
        "        self.add(x)\n",
        "        self.add(x)\n",
        "\n",
        "b1=Bag()\n",
        "b1.addtwice(5)\n",
        "print(b1.data)"
      ],
      "execution_count": null,
      "outputs": [
        {
          "output_type": "stream",
          "text": [
            "[5, 5]\n"
          ],
          "name": "stdout"
        }
      ]
    },
    {
      "cell_type": "markdown",
      "metadata": {
        "id": "3UPK3jLPULB8"
      },
      "source": [
        "# Classes - Inheritance & Overriding\n",
        "* [Inheritance](https://www.python-course.eu/python3_inheritance.php): An object created(subclass) through inheritance of superclass inherit all (methods & variables).\n",
        "* Overriding- A method of a parent class gets overridden by simply defining a method with the same name in the child class.\n",
        "* [Multiple Inheritance , Method Resolution Order & Polymorphism](https://www.python-course.eu/python3_multiple_inheritance.php)\n",
        "* Functions returning Functions & [Decorators](https://www.python-course.eu/python3_decorators.php#:~:text=A%20decorator%20in%20Python%20is,a%20modified%20function%20or%20class.). \n",
        "* [Name Mangling & Underscores](https://dbader.org/blog/meaning-of-underscores-in-python#:~:text=A%20double%20underscore%20prefix%20causes,the%20class%20is%20extended%20later.)."
      ]
    },
    {
      "cell_type": "code",
      "metadata": {
        "id": "zV2HL2vmZiRP",
        "outputId": "4791235e-b0eb-4884-f017-c953a301ecee",
        "colab": {
          "base_uri": "https://localhost:8080/",
          "height": 313
        }
      },
      "source": [
        "# An Robot & Physician for robot which heals the robots. Also show overriding.\n",
        "import random\n",
        "\n",
        "class Robot:\n",
        "  def __init__(self,name):\n",
        "    self.name=name\n",
        "    self.health=random.random()\n",
        "  def say_hi(self):\n",
        "    print(\"HI! how are you {}\".format(self.name))\n",
        "\n",
        "  def does_need_doctor(self):\n",
        "    if self.health<0.8:\n",
        "      return True\n",
        "    else :\n",
        "      return False\n",
        "\n",
        "  \n",
        "class PhysicianRobot(Robot):\n",
        "\n",
        "  def say_hi(self):\n",
        "    print(\"You are gong to be treated by {}\".format(self.name))\n",
        "  \n",
        "  def heal(self,robo):\n",
        "    robo.health=random.uniform(robo.health,1)\n",
        "    print(\"{} has been healed  by {}\".format(robo.name,self.name))\n",
        "\n",
        "rob_list=[]\n",
        "doc=PhysicianRobot(\"Dr Franksetain\")\n",
        "for i in range(5):\n",
        "  x=Robot(\"Robot\" +str(i))\n",
        "  if x.does_need_doctor():\n",
        "    print(\"{} is being treated by {}\".format(x.name,doc.name))\n",
        "    print(\" The health before treatment is :{}\".format(x.health))\n",
        "    doc.heal(x)\n",
        "    print(\"After treatment the health is {}\".format(x.health))\n",
        "    rob_list.append((x.name,x.health))\n",
        "\n",
        "print(rob_list)"
      ],
      "execution_count": null,
      "outputs": [
        {
          "output_type": "stream",
          "text": [
            "Robot0 is being treated by Dr Franksetain\n",
            " The health before treatment is :0.13025952728850976\n",
            "Robot0 has been healed  by Dr Franksetain\n",
            "After treatment the health is 0.5948471264742186\n",
            "Robot1 is being treated by Dr Franksetain\n",
            " The health before treatment is :0.7093492747914444\n",
            "Robot1 has been healed  by Dr Franksetain\n",
            "After treatment the health is 0.8868194360507916\n",
            "Robot2 is being treated by Dr Franksetain\n",
            " The health before treatment is :0.47831321672216287\n",
            "Robot2 has been healed  by Dr Franksetain\n",
            "After treatment the health is 0.7468383836920927\n",
            "Robot4 is being treated by Dr Franksetain\n",
            " The health before treatment is :0.6458736151804882\n",
            "Robot4 has been healed  by Dr Franksetain\n",
            "After treatment the health is 0.9139748390559143\n",
            "[('Robot0', 0.5948471264742186), ('Robot1', 0.8868194360507916), ('Robot2', 0.7468383836920927), ('Robot4', 0.9139748390559143)]\n"
          ],
          "name": "stdout"
        }
      ]
    },
    {
      "cell_type": "markdown",
      "metadata": {
        "id": "3e14sSv9jR45"
      },
      "source": [
        "# Iterators & Generators\n",
        "* [Iterators & Generators article ](https://nvie.com/posts/iterators-vs-generators/):\n",
        "* Iterators using iter() which are iterated using for loop or next()\n",
        "* Generator is also an iterator ,but it has yield keyword . Generator expression just like list comprehension.\n"
      ]
    },
    {
      "cell_type": "code",
      "metadata": {
        "id": "HS5Wgp9kt9HR",
        "outputId": "7233da06-2d5d-4849-f8ec-a6d28ab41001",
        "colab": {
          "base_uri": "https://localhost:8080/",
          "height": 50
        }
      },
      "source": [
        "# generator yield o/p & countinue for next iteration t start from there \n",
        "from itertools import islice\n",
        "def fib():\n",
        "  a,b=0,1\n",
        "  while True:\n",
        "    yield a    # generator stops here until the itertor(islice()) calls again\n",
        "    a,b=b,a+b\n",
        "\n",
        "f=fib()\n",
        "print(list(islice(f,0,5)))\n",
        "\n",
        "# Generator expression example\n",
        "num_gen=(x*x for x in range(11))\n",
        "print(next(num_gen),list(num_gen)) \n",
        "# skipped the 1st element as the next yielded the 1st element and move the arrow to 2nd element"
      ],
      "execution_count": null,
      "outputs": [
        {
          "output_type": "stream",
          "text": [
            "[0, 1, 1, 2, 3]\n",
            "0 [1, 4, 9, 16, 25, 36, 49, 64, 81, 100]\n"
          ],
          "name": "stdout"
        }
      ]
    },
    {
      "cell_type": "markdown",
      "metadata": {
        "id": "hj6S9c5CjYVu"
      },
      "source": [
        "# Standard Libraries\n",
        "* **os module** (operating system) provides dozen of function:\n",
        "```\n",
        "import os\n",
        "os.getcwd()   # return the current working directory\n",
        "os.chdir()    # change the current working directory\n",
        "```\n",
        "* For daily file & directory managment task use **Shutil** (copyfile ,move).\n",
        "* **glob modules** provide a function for making file lists from directory wildcard searches.\n",
        "* Command line argument .These arguments are stored in the **sys module**’s argv attribute as a list.\n",
        "* sys also has attributes :-stdin,stdout,stderr and sys.exit().\n",
        "* The **re module provides regular expression** tools for advanced string processing. re function - ex : findall(), sub()\n",
        "````\n",
        "import re\n",
        "re.findall(r'\\bf[a-z]*,\"which fell fast hand or feet)\n",
        "````\n",
        "* **math module** give acess to floating math functions ex: math.cos() & math.log()\n",
        "* **random module** provides tools for making random choice ex: .choice() , .sample() , .random() , .uniform()\n",
        "* **statistics module** calculate statisitical properties(mean,median,mode,variance ) of numeric data.\n",
        "* There are number of modules for accessing the internet and processing internet protocols .  **urllib.request** - for retrieving data from url & **smtplib** - for sending mails.\n",
        "* The **datetime module** supplies classes for manipulating dates and times in both simple and complex ways. The focus is on effecient member extraction and output formating and manipulation.\n",
        "* **Data archiving and compression** are directly supported by modules - zlib,gzip,bz2,lzma,zipfile and tarfile.\n",
        "* **Performance measurment using timeit module**.\n",
        "* The **doctest module** provide a tool to validate the test case of function provided in its docstring.\n",
        "* **Output Formatting  modules** - reprlib , pprint , textwrap , locale\n",
        "* In **String module, Template Class** allows us to create simplified syntax for output specification. The format uses placeholder names formed by $.\n",
        "* Multi -Threading, Logging & Weak References.\n",
        "* The **array module provides an array() object** that is like a list that stores only homogeneous data and stores it more compactly.\n",
        "* The **collections module provides a deque()** object that is like a list with faster appends and pops from the left side but slower lookups in the middle. (**bisect & heapq module**).\n",
        "* The **decimal module** offers a Decimal datatype for decimal floating point arithmetic."
      ]
    },
    {
      "cell_type": "markdown",
      "metadata": {
        "id": "_0bePJ6szY2J"
      },
      "source": [
        "# Map,Filter & Reduce\n",
        "* [article](https://www.learnpython.org/en/Map%2C_Filter%2C_Reduce)"
      ]
    },
    {
      "cell_type": "code",
      "metadata": {
        "id": "uRHq8Lci1WVJ",
        "outputId": "4e498cfa-3706-4c75-8fe5-3f219fa59276",
        "colab": {
          "base_uri": "https://localhost:8080/",
          "height": 33
        }
      },
      "source": [
        "# Python 3\n",
        "from functools import reduce\n",
        "\n",
        "numbers = [3, 4, 6, 9, 11]\n",
        "\n",
        "def custom_sum(first, second):\n",
        "    return first + second\n",
        "\n",
        "result = reduce(custom_sum, numbers,10)\n",
        "print(result)"
      ],
      "execution_count": null,
      "outputs": [
        {
          "output_type": "stream",
          "text": [
            "43\n"
          ],
          "name": "stdout"
        }
      ]
    }
  ]
}